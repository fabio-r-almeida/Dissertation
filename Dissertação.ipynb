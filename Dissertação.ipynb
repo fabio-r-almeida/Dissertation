{
  "nbformat": 4,
  "nbformat_minor": 0,
  "metadata": {
    "colab": {
      "provenance": [],
      "collapsed_sections": []
    },
    "kernelspec": {
      "name": "python3",
      "display_name": "Python 3"
    },
    "language_info": {
      "name": "python"
    }
  },
  "cells": [
    {
      "cell_type": "code",
      "source": [
        "#Imports\n",
        "!pip install requests\n",
        "import requests\n",
        "import pandas as pd\n",
        "import json\n"
      ],
      "metadata": {
        "id": "r5UFKGq32BOk"
      },
      "execution_count": null,
      "outputs": []
    },
    {
      "cell_type": "code",
      "execution_count": null,
      "metadata": {
        "id": "S73cnXObYyFX",
        "colab": {
          "base_uri": "https://localhost:8080/",
          "height": 378
        },
        "outputId": "cdac2ba8-8cd7-4188-c5c6-57e717ccd951"
      },
      "outputs": [
        {
          "output_type": "display_data",
          "data": {
            "text/plain": [
              "<IPython.core.display.HTML object>"
            ],
            "text/html": [
              "<svg xmlns=\"http://www.w3.org/2000/svg\" viewBox=\"0 0 450 400\" width=\"200\" height=\"200\">\n",
              "  <rect x=\"80\" y=\"60\" width=\"250\" height=\"250\" rx=\"20\" style=\"fill:red; stroke:black; fill-opacity:0.7\" />\n",
              "  <rect x=\"180\" y=\"110\" width=\"250\" height=\"250\" rx=\"40\" style=\"fill:blue; stroke:black; fill-opacity:0.5;\" />\n",
              "</svg>\n",
              "\n",
              "#\n",
              "#@markdown \n",
              "Latitude = 38.720 #@param {type:\"number\"}\n",
              "Longitude = -9.281 #@param {type:\"number\"}\n",
              "\n",
              "start_year = \"2020\" #@param [\"2005\", \"2006\", \"2007\", \"2008\", \"2009\", \"2010\", \"2011\", \"2012\", \"2013\", \"2014\", \"2015\", \"2016\", \"2017\", \"2018\", \"2019\", \"2020\"]\n",
              "end_year = \"2020\" #@param [\"2005\", \"2006\", \"2007\", \"2008\", \"2009\", \"2010\", \"2011\", \"2012\", \"2013\", \"2014\", \"2015\", \"2016\", \"2017\", \"2018\", \"2019\", \"2020\"]\n",
              "\n",
              "#@markdown Consider the optimal azimuth for the specified location\n",
              "optimal_azimuth = False #@param {type:\"boolean\"}\n",
              "Slope = 90 #@param [\"90\"] {type:\"raw\"}\n",
              "\n",
              "\n",
              "url = f\" https://re.jrc.ec.europa.eu/api/v5_2/seriescalc?lat={Latitude}&lon={Longitude}&startyear={start_year}&endyear={end_year}&optimalangles={int(optimal_azimuth==True)}&angle={Slope}&outputformat=json\"\n",
              "#Gets the data from the url defined previously\n",
              "api_response = requests.get(url)\n",
              "\n",
              "#Converts into readable json\n",
              "api_response_json = api_response.json()\n",
              "data = json.loads(json.dumps(api_response_json))\n",
              "\n",
              "azimuth_east = data['inputs']['mounting_system']['fixed']['azimuth']['value'] + 90\n",
              "azimuth_west= data['inputs']['mounting_system']['fixed']['azimuth']['value'] - 90\n",
              "\n",
              "url_east = f\" https://re.jrc.ec.europa.eu/api/v5_2/seriescalc?lat={Latitude}&lon={Longitude}&startyear={start_year}&endyear={end_year}&aspect={azimuth_east}&angle={Slope}&outputformat=json\"\n",
              "url_west = f\" https://re.jrc.ec.europa.eu/api/v5_2/seriescalc?lat={Latitude}&lon={Longitude}&startyear={start_year}&endyear={end_year}&aspect={azimuth_west}&angle={Slope}&outputformat=json\"\n",
              "\n",
              "api_response_east = requests.get(url_east)\n",
              "api_response_json_east = api_response_east.json()\n",
              "data_east = json.loads(json.dumps(api_response_json_east))\n",
              "df_east = pd.DataFrame(data_east['outputs']['hourly'])\n",
              "df_east.columns = ['Time', 'G(i)', 'H_sun', 'T2m', 'WS10m', 'Int']\n",
              "df_east.set_index('Time', inplace=True)\n",
              "\n",
              "api_response_west = requests.get(url_west)\n",
              "api_response_json_west = api_response_west.json()\n",
              "data_west = json.loads(json.dumps(api_response_json_west))\n",
              "df_west = pd.DataFrame(data_west['outputs']['hourly'])\n",
              "df_west.columns = ['Time', 'G(i)', 'H_sun', 'T2m', 'WS10m', 'Int']\n",
              "df_west.set_index('Time', inplace=True)\n",
              "\n",
              "\n",
              "df = df_east.add(df_west, fill_value=0)\n",
              "\n"
            ]
          },
          "metadata": {}
        }
      ],
      "source": [
        "#@title **PVGIS data selection and parameters** { run: \"auto\", display-mode: \"form\" }\n",
        "#@markdown ---\n",
        "#@markdown To fetch the necessary data from [PVGIS](https://re.jrc.ec.europa.eu/pvg_tools/en/) it is necessary to select the following parameters:\n",
        "#@markdown * Latitude\n",
        "#@markdown * Longitude\n",
        "#@markdown * Start Year - Year from which the simulation starts\n",
        "#@markdown * End Year - Year in which the simulation ends\n",
        "#@markdown * Optimal Azimuth - Year in which the simulation ends\n",
        "\n",
        "#@markdown ![sad](https://upload.wikimedia.org/wikipedia/commons/f/f7/Azimuth-Altitude_schematic.svg)\n",
        "\n",
        "\n",
        "#\n",
        "#@markdown \n",
        "Latitude = 38.720 #@param {type:\"number\"}\n",
        "Longitude = -9.281 #@param {type:\"number\"}\n",
        "\n",
        "start_year = \"2020\" #@param [\"2005\", \"2006\", \"2007\", \"2008\", \"2009\", \"2010\", \"2011\", \"2012\", \"2013\", \"2014\", \"2015\", \"2016\", \"2017\", \"2018\", \"2019\", \"2020\"]\n",
        "end_year = \"2020\" #@param [\"2005\", \"2006\", \"2007\", \"2008\", \"2009\", \"2010\", \"2011\", \"2012\", \"2013\", \"2014\", \"2015\", \"2016\", \"2017\", \"2018\", \"2019\", \"2020\"]\n",
        "\n",
        "#@markdown Consider the optimal azimuth for the specified location\n",
        "optimal_azimuth = False #@param {type:\"boolean\"}\n",
        "Slope = 90 #@param [\"90\"] {type:\"raw\"}\n",
        "\n",
        "\n",
        "url = f\" https://re.jrc.ec.europa.eu/api/v5_2/seriescalc?lat={Latitude}&lon={Longitude}&startyear={start_year}&endyear={end_year}&optimalangles={int(optimal_azimuth==True)}&angle={Slope}&outputformat=json\"\n",
        "#Gets the data from the url defined previously\n",
        "api_response = requests.get(url)\n",
        "\n",
        "#Converts into readable json\n",
        "api_response_json = api_response.json()\n",
        "data = json.loads(json.dumps(api_response_json))\n",
        "\n",
        "azimuth_east = data['inputs']['mounting_system']['fixed']['azimuth']['value'] + 90\n",
        "azimuth_west= data['inputs']['mounting_system']['fixed']['azimuth']['value'] - 90\n",
        "\n",
        "url_east = f\" https://re.jrc.ec.europa.eu/api/v5_2/seriescalc?lat={Latitude}&lon={Longitude}&startyear={start_year}&endyear={end_year}&aspect={azimuth_east}&angle={Slope}&outputformat=json\"\n",
        "url_west = f\" https://re.jrc.ec.europa.eu/api/v5_2/seriescalc?lat={Latitude}&lon={Longitude}&startyear={start_year}&endyear={end_year}&aspect={azimuth_west}&angle={Slope}&outputformat=json\"\n",
        "\n",
        "api_response_east = requests.get(url_east)\n",
        "api_response_json_east = api_response_east.json()\n",
        "data_east = json.loads(json.dumps(api_response_json_east))\n",
        "df_east = pd.DataFrame(data_east['outputs']['hourly'])\n",
        "df_east.columns = ['Time', 'G(i)', 'H_sun', 'T2m', 'WS10m', 'Int']\n",
        "df_east.set_index('Time', inplace=True)\n",
        "\n",
        "api_response_west = requests.get(url_west)\n",
        "api_response_json_west = api_response_west.json()\n",
        "data_west = json.loads(json.dumps(api_response_json_west))\n",
        "df_west = pd.DataFrame(data_west['outputs']['hourly'])\n",
        "df_west.columns = ['Time', 'G(i)', 'H_sun', 'T2m', 'WS10m', 'Int']\n",
        "df_west.set_index('Time', inplace=True)\n",
        "\n",
        "\n",
        "df = df_east.add(df_west, fill_value=0)\n",
        "\n"
      ]
    }
  ]
}